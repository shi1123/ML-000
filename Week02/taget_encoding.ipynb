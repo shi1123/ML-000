{
  "nbformat": 4,
  "nbformat_minor": 0,
  "metadata": {
    "colab": {
      "name": "taget_encoding.ipynb",
      "provenance": []
    },
    "kernelspec": {
      "name": "python3",
      "display_name": "Python 3"
    }
  },
  "cells": [
    {
      "cell_type": "code",
      "metadata": {
        "id": "thJdz857hFBG"
      },
      "source": [
        "import numpy as np\n",
        "import pandas as pd"
      ],
      "execution_count": 1,
      "outputs": []
    },
    {
      "cell_type": "code",
      "metadata": {
        "id": "8Guv7eToxB3Q"
      },
      "source": [
        "    y = np.random.randint(2, size=(5000, 1))\n",
        "    x = np.random.randint(10, size=(5000, 1))\n",
        "    data = pd.DataFrame(np.concatenate([y, x], axis=1), columns=['y', 'x'])"
      ],
      "execution_count": 3,
      "outputs": []
    },
    {
      "cell_type": "code",
      "metadata": {
        "id": "RZnQ-QVmxOOm"
      },
      "source": [
        "def target_mean_v1(data, y_name, x_name):\n",
        "    result = np.zeros(data.shape[0])\n",
        "    for i in range(data.shape[0]):\n",
        "        groupby_result = data[data.index != i].groupby([x_name], as_index=False).agg(['mean', 'count'])\n",
        "        result[i] = groupby_result.loc[groupby_result.index == data.loc[i, x_name], (y_name, 'mean')]\n",
        "    return result"
      ],
      "execution_count": 4,
      "outputs": []
    },
    {
      "cell_type": "code",
      "metadata": {
        "id": "TsVxaRU3xSol"
      },
      "source": [
        "def target_mean_v2(data, y_name, x_name):\n",
        "    result = np.zeros(data.shape[0])\n",
        "    value_dict = dict()\n",
        "    count_dict = dict()\n",
        "    for i in range(data.shape[0]):\n",
        "        if data.loc[i, x_name] not in value_dict.keys():\n",
        "            value_dict[data.loc[i, x_name]] = data.loc[i, y_name]\n",
        "            count_dict[data.loc[i, x_name]] = 1\n",
        "        else:\n",
        "            value_dict[data.loc[i, x_name]] += data.loc[i, y_name]\n",
        "            count_dict[data.loc[i, x_name]] += 1\n",
        "    for i in range(data.shape[0]):\n",
        "        result[i] = (value_dict[data.loc[i, x_name]] - data.loc[i, y_name]) / (count_dict[data.loc[i, x_name]] - 1)\n",
        "    return result"
      ],
      "execution_count": 5,
      "outputs": []
    },
    {
      "cell_type": "code",
      "metadata": {
        "colab": {
          "base_uri": "https://localhost:8080/"
        },
        "id": "4ulcQbC-xWsa",
        "outputId": "d9e6fc98-83f7-4dc1-e13a-e2a2238f569c"
      },
      "source": [
        "%%timeit\n",
        "target_mean_v1(data, 'y', 'x')"
      ],
      "execution_count": 8,
      "outputs": [
        {
          "output_type": "stream",
          "text": [
            "1 loop, best of 3: 23.6 s per loop\n"
          ],
          "name": "stdout"
        }
      ]
    },
    {
      "cell_type": "code",
      "metadata": {
        "colab": {
          "base_uri": "https://localhost:8080/"
        },
        "id": "yi70uq_Ix6zB",
        "outputId": "135a8870-5558-4267-89d0-e0fb58ae6622"
      },
      "source": [
        "%%timeit\n",
        "target_mean_v2(data, 'y', 'x')"
      ],
      "execution_count": 7,
      "outputs": [
        {
          "output_type": "stream",
          "text": [
            "1 loop, best of 3: 263 ms per loop\n"
          ],
          "name": "stdout"
        }
      ]
    },
    {
      "cell_type": "code",
      "metadata": {
        "id": "1ak00Le9yxyd"
      },
      "source": [
        "%load_ext Cython"
      ],
      "execution_count": 13,
      "outputs": []
    },
    {
      "cell_type": "markdown",
      "metadata": {
        "id": "4x_37pFH5pJO"
      },
      "source": [
        "%%cython --cplus\n",
        "\n",
        "import cython\n",
        "cimport cython\n",
        "import numpy as np\n",
        "cimport numpy as np\n",
        "from cython.parallel import prange\n",
        "\n",
        "@cython.boundscheck(False)\n",
        "@cython.wraparound(False)\n",
        "cpdef target_mean_v4(int[:] x, int [:] y):\n",
        "    cdef int size = 10\n",
        "    cdef int n = x.shape[0]\n",
        "    cdef int[:] count = np.zeros(size).astype(np.intc)\n",
        "    cdef int[:] sum = np.zeros(size).astype(np.intc)\n",
        "    cdef double[:] result = np.zeros(n)\n",
        "    \n",
        "    cdef int i = 0\n",
        "\n",
        "    for i in prange(n, nogil = True):\n",
        "      sum[x[i]] += y[i]\n",
        "      count[x[i]] += 1\n",
        "        \n",
        "        \n",
        "    for i in prange(n, nogil = True):\n",
        "      result[i] = (sum[x[i]] - y[i]) / (count[x[i]] - 1)\n",
        "    \n",
        "    return result"
      ]
    },
    {
      "cell_type": "code",
      "metadata": {
        "colab": {
          "base_uri": "https://localhost:8080/"
        },
        "id": "nKaT4CQxBuck",
        "outputId": "77913983-beb5-4c15-daff-46b5e3537103"
      },
      "source": [
        "%%timeit\n",
        "target_mean_v4(data['x'].values.astype(np.intc), data['y'].values.astype(np.intc))"
      ],
      "execution_count": 15,
      "outputs": [
        {
          "output_type": "stream",
          "text": [
            "The slowest run took 13.57 times longer than the fastest. This could mean that an intermediate result is being cached.\n",
            "10000 loops, best of 3: 50.4 µs per loop\n"
          ],
          "name": "stdout"
        }
      ]
    }
  ]
}